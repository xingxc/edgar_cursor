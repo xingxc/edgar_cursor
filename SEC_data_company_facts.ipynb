{
 "cells": [
  {
   "cell_type": "code",
   "execution_count": 70,
   "metadata": {},
   "outputs": [],
   "source": [
    "import requests\n",
    "import pandas as pd\n",
    "\n",
    "headers = {\"User-agent\": \"email@email.com\"}\n",
    "ticker = 'pypl'"
   ]
  },
  {
   "cell_type": "markdown",
   "metadata": {},
   "source": [
    "# SEC CIK end points return ticker\n",
    "\n",
    "Return the CIK number for the relavent stock."
   ]
  },
  {
   "cell_type": "code",
   "execution_count": 71,
   "metadata": {},
   "outputs": [
    {
     "data": {
      "text/plain": [
       "'0001633917'"
      ]
     },
     "execution_count": 71,
     "metadata": {},
     "output_type": "execute_result"
    }
   ],
   "source": [
    "def cik_matching_ticker(ticker, headers=headers):\n",
    "    ticker = ticker.upper().replace(\".\", \"-\")\n",
    "    ticker_json = requests.get(\n",
    "        \"https://www.sec.gov/files/company_tickers.json\", headers=headers\n",
    "    ).json()\n",
    "\n",
    "    for company in ticker_json.values():\n",
    "        if company[\"ticker\"] == ticker:\n",
    "            cik = str(company[\"cik_str\"]).zfill(10)\n",
    "            return cik\n",
    "    raise ValueError(f\"Ticker {ticker} not found in SEC CIK list\")\n",
    "\n",
    "\n",
    "cik_matching_ticker(ticker)"
   ]
  },
  {
   "cell_type": "markdown",
   "metadata": {},
   "source": [
    "# Submissions Data\n",
    "\n",
    "submission data end point: https://data.sec.gov/submissions/CIK##########.json\n",
    "\n"
   ]
  },
  {
   "cell_type": "markdown",
   "metadata": {},
   "source": [
    "Return submission numbers of the SEC filings.\n",
    "\n",
    "#### company_json catagories\n",
    "- sic : The sector.\n",
    "- sic description : The description of the sector.\n",
    "- filings : The SEC filings the company submitted.\n",
    "- fiscalYearEnd : THe end of the fiscal year for the company."
   ]
  },
  {
   "cell_type": "code",
   "execution_count": 72,
   "metadata": {},
   "outputs": [],
   "source": [
    "def get_submissions_for_ticker(tickers, headers=headers, only_filings_df=False):\n",
    "    cik = cik_matching_ticker(tickers)\n",
    "    url = f\"https://data.sec.gov/submissions/CIK{cik}.json\"\n",
    "    company_json = requests.get(url, headers=headers).json()\n",
    "    if only_filings_df:\n",
    "        return pd.DataFrame(company_json[\"filings\"][\"recent\"])\n",
    "    return company_json"
   ]
  },
  {
   "cell_type": "code",
   "execution_count": 76,
   "metadata": {},
   "outputs": [
    {
     "data": {
      "text/plain": [
       "'1231'"
      ]
     },
     "execution_count": 76,
     "metadata": {},
     "output_type": "execute_result"
    }
   ],
   "source": [
    "company_json = get_submissions_for_ticker(ticker,headers=headers, only_filings_df=False)\n",
    "\n",
    "company_json['sic']\n",
    "company_json['sicDescription']\n",
    "company_json['fiscalYearEnd']"
   ]
  },
  {
   "cell_type": "markdown",
   "metadata": {},
   "source": [
    "#### Filtering the filings for 10-K and 10-Q"
   ]
  },
  {
   "cell_type": "code",
   "execution_count": 77,
   "metadata": {},
   "outputs": [],
   "source": [
    "def get_filter_filing(ticker, ten_k=True, accession_number_only=False, headers=headers):\n",
    "    company_filing_df = get_submissions_for_ticker(\n",
    "        ticker, headers=headers, only_filings_df=True\n",
    "    )\n",
    "    if ten_k:\n",
    "        df = company_filing_df[company_filing_df[\"form\"] == \"10-K\"]\n",
    "    else:\n",
    "        df = company_filing_df[company_filing_df[\"form\"] == \"10-Q\"]\n",
    "\n",
    "    if accession_number_only:\n",
    "        df = df.set_index(\"reportDate\")\n",
    "        return df[\"accessionNumber\"]\n",
    "    else:\n",
    "        return df"
   ]
  },
  {
   "cell_type": "code",
   "execution_count": 171,
   "metadata": {},
   "outputs": [
    {
     "data": {
      "text/html": [
       "<div>\n",
       "<style scoped>\n",
       "    .dataframe tbody tr th:only-of-type {\n",
       "        vertical-align: middle;\n",
       "    }\n",
       "\n",
       "    .dataframe tbody tr th {\n",
       "        vertical-align: top;\n",
       "    }\n",
       "\n",
       "    .dataframe thead th {\n",
       "        text-align: right;\n",
       "    }\n",
       "</style>\n",
       "<table border=\"1\" class=\"dataframe\">\n",
       "  <thead>\n",
       "    <tr style=\"text-align: right;\">\n",
       "      <th></th>\n",
       "      <th>accessionNumber</th>\n",
       "      <th>filingDate</th>\n",
       "      <th>reportDate</th>\n",
       "      <th>acceptanceDateTime</th>\n",
       "      <th>act</th>\n",
       "      <th>form</th>\n",
       "      <th>fileNumber</th>\n",
       "      <th>filmNumber</th>\n",
       "      <th>items</th>\n",
       "      <th>size</th>\n",
       "      <th>isXBRL</th>\n",
       "      <th>isInlineXBRL</th>\n",
       "      <th>primaryDocument</th>\n",
       "      <th>primaryDocDescription</th>\n",
       "    </tr>\n",
       "  </thead>\n",
       "  <tbody>\n",
       "    <tr>\n",
       "      <th>17</th>\n",
       "      <td>0001633917-23-000156</td>\n",
       "      <td>2023-11-02</td>\n",
       "      <td>2023-09-30</td>\n",
       "      <td>2023-11-01T19:36:59.000Z</td>\n",
       "      <td>34</td>\n",
       "      <td>10-Q</td>\n",
       "      <td>001-36859</td>\n",
       "      <td>231369612</td>\n",
       "      <td></td>\n",
       "      <td>19308724</td>\n",
       "      <td>1</td>\n",
       "      <td>1</td>\n",
       "      <td>pypl-20230930.htm</td>\n",
       "      <td>10-Q</td>\n",
       "    </tr>\n",
       "    <tr>\n",
       "      <th>35</th>\n",
       "      <td>0001633917-23-000117</td>\n",
       "      <td>2023-08-03</td>\n",
       "      <td>2023-06-30</td>\n",
       "      <td>2023-08-02T19:24:53.000Z</td>\n",
       "      <td>34</td>\n",
       "      <td>10-Q</td>\n",
       "      <td>001-36859</td>\n",
       "      <td>231137583</td>\n",
       "      <td></td>\n",
       "      <td>16552932</td>\n",
       "      <td>1</td>\n",
       "      <td>1</td>\n",
       "      <td>pypl-20230630.htm</td>\n",
       "      <td>10-Q</td>\n",
       "    </tr>\n",
       "    <tr>\n",
       "      <th>66</th>\n",
       "      <td>0001633917-23-000072</td>\n",
       "      <td>2023-05-09</td>\n",
       "      <td>2023-03-31</td>\n",
       "      <td>2023-05-08T19:11:44.000Z</td>\n",
       "      <td>34</td>\n",
       "      <td>10-Q</td>\n",
       "      <td>001-36859</td>\n",
       "      <td>23899495</td>\n",
       "      <td></td>\n",
       "      <td>15148780</td>\n",
       "      <td>1</td>\n",
       "      <td>1</td>\n",
       "      <td>pypl-20230331.htm</td>\n",
       "      <td>10-Q</td>\n",
       "    </tr>\n",
       "    <tr>\n",
       "      <th>104</th>\n",
       "      <td>0001633917-22-000167</td>\n",
       "      <td>2022-11-04</td>\n",
       "      <td>2022-09-30</td>\n",
       "      <td>2022-11-03T19:29:22.000Z</td>\n",
       "      <td>34</td>\n",
       "      <td>10-Q</td>\n",
       "      <td>001-36859</td>\n",
       "      <td>221359785</td>\n",
       "      <td></td>\n",
       "      <td>17383114</td>\n",
       "      <td>1</td>\n",
       "      <td>1</td>\n",
       "      <td>pypl-20220930.htm</td>\n",
       "      <td>10-Q</td>\n",
       "    </tr>\n",
       "    <tr>\n",
       "      <th>120</th>\n",
       "      <td>0001633917-22-000137</td>\n",
       "      <td>2022-08-03</td>\n",
       "      <td>2022-06-30</td>\n",
       "      <td>2022-08-02T19:32:26.000Z</td>\n",
       "      <td>34</td>\n",
       "      <td>10-Q</td>\n",
       "      <td>001-36859</td>\n",
       "      <td>221130516</td>\n",
       "      <td></td>\n",
       "      <td>17033494</td>\n",
       "      <td>1</td>\n",
       "      <td>1</td>\n",
       "      <td>pypl-20220630.htm</td>\n",
       "      <td>10-Q</td>\n",
       "    </tr>\n",
       "  </tbody>\n",
       "</table>\n",
       "</div>"
      ],
      "text/plain": [
       "          accessionNumber  filingDate  reportDate        acceptanceDateTime  \\\n",
       "17   0001633917-23-000156  2023-11-02  2023-09-30  2023-11-01T19:36:59.000Z   \n",
       "35   0001633917-23-000117  2023-08-03  2023-06-30  2023-08-02T19:24:53.000Z   \n",
       "66   0001633917-23-000072  2023-05-09  2023-03-31  2023-05-08T19:11:44.000Z   \n",
       "104  0001633917-22-000167  2022-11-04  2022-09-30  2022-11-03T19:29:22.000Z   \n",
       "120  0001633917-22-000137  2022-08-03  2022-06-30  2022-08-02T19:32:26.000Z   \n",
       "\n",
       "    act  form fileNumber filmNumber items      size  isXBRL  isInlineXBRL  \\\n",
       "17   34  10-Q  001-36859  231369612        19308724       1             1   \n",
       "35   34  10-Q  001-36859  231137583        16552932       1             1   \n",
       "66   34  10-Q  001-36859   23899495        15148780       1             1   \n",
       "104  34  10-Q  001-36859  221359785        17383114       1             1   \n",
       "120  34  10-Q  001-36859  221130516        17033494       1             1   \n",
       "\n",
       "       primaryDocument primaryDocDescription  \n",
       "17   pypl-20230930.htm                  10-Q  \n",
       "35   pypl-20230630.htm                  10-Q  \n",
       "66   pypl-20230331.htm                  10-Q  \n",
       "104  pypl-20220930.htm                  10-Q  \n",
       "120  pypl-20220630.htm                  10-Q  "
      ]
     },
     "metadata": {},
     "output_type": "display_data"
    },
    {
     "data": {
      "text/plain": [
       "reportDate\n",
       "2023-09-30    0001633917-23-000156\n",
       "2023-06-30    0001633917-23-000117\n",
       "2023-03-31    0001633917-23-000072\n",
       "2022-09-30    0001633917-22-000167\n",
       "2022-06-30    0001633917-22-000137\n",
       "2022-03-31    0001633917-22-000088\n",
       "2021-09-30    0001633917-21-000169\n",
       "2021-06-30    0001633917-21-000149\n",
       "2021-03-31    0001633917-21-000100\n",
       "2020-09-30    0001633917-20-000169\n",
       "2020-06-30    0001633917-20-000134\n",
       "2020-03-31    0001633917-20-000093\n",
       "2019-09-30    0001633917-19-000210\n",
       "2019-06-30    0001633917-19-000180\n",
       "2019-03-31    0001633917-19-000118\n",
       "2018-09-30    0001633917-18-000203\n",
       "2018-06-30    0001633917-18-000171\n",
       "2018-03-31    0001633917-18-000096\n",
       "2017-09-30    0001633917-17-000171\n",
       "2017-06-30    0001633917-17-000136\n",
       "2017-03-31    0001633917-17-000075\n",
       "2016-09-30    0001633917-16-000243\n",
       "2016-06-30    0001633917-16-000203\n",
       "2016-03-31    0001633917-16-000161\n",
       "2015-09-30    0001633917-15-000052\n",
       "2015-06-30    0001633917-15-000008\n",
       "Name: accessionNumber, dtype: object"
      ]
     },
     "metadata": {},
     "output_type": "display_data"
    }
   ],
   "source": [
    "filtered_filings= get_filter_filing(ticker, ten_k=False, accession_number_only=False, headers=headers)\n",
    "filtered_filings_accession_only= get_filter_filing(ticker, ten_k=False, accession_number_only=True, headers=headers)\n",
    "display(filtered_filings.head())\n",
    "display(filtered_filings_accession_only)"
   ]
  },
  {
   "cell_type": "code",
   "execution_count": null,
   "metadata": {},
   "outputs": [],
   "source": []
  },
  {
   "cell_type": "markdown",
   "metadata": {},
   "source": [
    "## Accessing Company Facts\n",
    "\n",
    "Return `us_gaap_data` with company facts:\n",
    "- `company_facts = get_facts_json(ticker, headers=headers)`\n",
    "- `us_gaap_data = company_facts[\"facts\"][\"us-gaap\"]`\n",
    "\n",
    "`us_gaap_data [list]` : A list of dictionarys with:\n",
    "- `key` = name of the financial marker\n",
    "- `value` = `['label', 'description', 'units']`\n",
    "    - `label [str]` = the name of the financial key\n",
    "    - `description [str]` = the description of the financial key\n",
    "    - `units [dict]` :\n",
    "        - `key [str]` = the unit of the financial marker\n",
    "        - `value [dict]`\n"
   ]
  },
  {
   "cell_type": "code",
   "execution_count": 79,
   "metadata": {},
   "outputs": [],
   "source": [
    "def get_facts_json(ticker, headers=headers):\n",
    "    cik = cik_matching_ticker(ticker)\n",
    "    url = f\"https://data.sec.gov/api/xbrl/companyfacts/CIK{cik}.json\"\n",
    "    company_facts = requests.get(url, headers=headers).json()\n",
    "    return company_facts\n",
    "\n"
   ]
  },
  {
   "cell_type": "code",
   "execution_count": 138,
   "metadata": {},
   "outputs": [
    {
     "name": "stdout",
     "output_type": "stream",
     "text": [
      "AccountsPayableAndOtherAccruedLiabilitiesCurrent\n",
      "\n",
      "-----label-----\n",
      "Accounts Payable and Other Accrued Liabilities, Current\n",
      "<class 'str'>\n",
      "-----label-----\n",
      "\n",
      "-----description-----\n",
      "Amount of liabilities incurred to vendors for goods and services received, and accrued liabilities classified as other, payable within one year or the normal operating cycle, if longer.\n",
      "<class 'str'>\n",
      "-----description-----\n",
      "\n",
      "-----units-----\n",
      "{'USD': [{'end': '2016-12-31', 'val': 192000000, 'accn': '0001633917-17-000171', 'fy': 2017, 'fp': 'Q3', 'form': '10-Q', 'filed': '2017-10-24', 'frame': 'CY2016Q4I'}, {'end': '2017-09-30', 'val': 974000000, 'accn': '0001633917-17-000171', 'fy': 2017, 'fp': 'Q3', 'form': '10-Q', 'filed': '2017-10-24', 'frame': 'CY2017Q3I'}]}\n",
      "dict_keys(['USD'])\n",
      "<class 'dict'>\n",
      "-----units-----\n",
      "\n",
      "-----units - USD-----\n",
      "[{'end': '2016-12-31', 'val': 192000000, 'accn': '0001633917-17-000171', 'fy': 2017, 'fp': 'Q3', 'form': '10-Q', 'filed': '2017-10-24', 'frame': 'CY2016Q4I'}, {'end': '2017-09-30', 'val': 974000000, 'accn': '0001633917-17-000171', 'fy': 2017, 'fp': 'Q3', 'form': '10-Q', 'filed': '2017-10-24', 'frame': 'CY2017Q3I'}]\n",
      "<class 'list'>\n",
      "-----units - USD-----\n",
      "\n"
     ]
    }
   ],
   "source": [
    "company_facts = get_facts_json(ticker, headers=headers)\n",
    "us_gaap_data = company_facts[\"facts\"][\"us-gaap\"]\n",
    "\n",
    "fact = list(us_gaap_data.keys())\n",
    "details = list(us_gaap_data.values())\n",
    "i = 0\n",
    "\n",
    "print(fact[i])\n",
    "print('\\n-----label-----')\n",
    "print(details[i]['label'])\n",
    "print(type(details[i]['label']))\n",
    "print('-----label-----\\n')\n",
    "\n",
    "print('-----description-----')\n",
    "print(details[i]['description'])\n",
    "print(type(details[i]['description']))\n",
    "print('-----description-----\\n')\n",
    "\n",
    "print('-----units-----')\n",
    "print(details[i]['units'])\n",
    "print(details[i]['units'].keys())\n",
    "print(type(details[i]['units']))\n",
    "print('-----units-----\\n')\n",
    "\n",
    "print('-----units - USD-----')\n",
    "print(details[i]['units']['USD'])\n",
    "print(type(details[i]['units']['USD']))\n",
    "print('-----units - USD-----\\n')"
   ]
  },
  {
   "cell_type": "markdown",
   "metadata": {},
   "source": [
    "#### Return Company Fact to DF"
   ]
  },
  {
   "cell_type": "code",
   "execution_count": 162,
   "metadata": {},
   "outputs": [],
   "source": [
    "def facts_to_df(ticker, headers=headers):\n",
    "    company_facts = get_facts_json(ticker, headers=headers)\n",
    "    us_gaap_data = company_facts[\"facts\"][\"us-gaap\"]\n",
    "    df_data = []\n",
    "\n",
    "    for fact, details in us_gaap_data.items():\n",
    "        for unit in details[\"units\"].keys():\n",
    "            for item in details[\"units\"][unit]:\n",
    "                row = item.copy()\n",
    "                row[\"fact\"] = fact\n",
    "                df_data.append(row)\n",
    "\n",
    "    df = pd.DataFrame(df_data)\n",
    "    df[\"end\"] = pd.to_datetime(df[\"end\"])\n",
    "    df[\"start\"] = pd.to_datetime(df[\"start\"])\n",
    "    df = df.drop_duplicates(subset=[\"fact\", \"end\", \"val\"])\n",
    "    df.set_index(\"end\", inplace=True)\n",
    "    labels_dict = {fact: details[\"label\"] for fact, details in us_gaap_data.items()}\n",
    "\n",
    "    return df, labels_dict"
   ]
  },
  {
   "cell_type": "code",
   "execution_count": 169,
   "metadata": {},
   "outputs": [
    {
     "data": {
      "text/html": [
       "<div>\n",
       "<style scoped>\n",
       "    .dataframe tbody tr th:only-of-type {\n",
       "        vertical-align: middle;\n",
       "    }\n",
       "\n",
       "    .dataframe tbody tr th {\n",
       "        vertical-align: top;\n",
       "    }\n",
       "\n",
       "    .dataframe thead th {\n",
       "        text-align: right;\n",
       "    }\n",
       "</style>\n",
       "<table border=\"1\" class=\"dataframe\">\n",
       "  <thead>\n",
       "    <tr style=\"text-align: right;\">\n",
       "      <th></th>\n",
       "      <th>val</th>\n",
       "      <th>accn</th>\n",
       "      <th>fy</th>\n",
       "      <th>fp</th>\n",
       "      <th>form</th>\n",
       "      <th>filed</th>\n",
       "      <th>frame</th>\n",
       "      <th>fact</th>\n",
       "      <th>start</th>\n",
       "    </tr>\n",
       "    <tr>\n",
       "      <th>end</th>\n",
       "      <th></th>\n",
       "      <th></th>\n",
       "      <th></th>\n",
       "      <th></th>\n",
       "      <th></th>\n",
       "      <th></th>\n",
       "      <th></th>\n",
       "      <th></th>\n",
       "      <th></th>\n",
       "    </tr>\n",
       "  </thead>\n",
       "  <tbody>\n",
       "    <tr>\n",
       "      <th>2016-12-31</th>\n",
       "      <td>192000000.0</td>\n",
       "      <td>0001633917-17-000171</td>\n",
       "      <td>2017</td>\n",
       "      <td>Q3</td>\n",
       "      <td>10-Q</td>\n",
       "      <td>2017-10-24</td>\n",
       "      <td>CY2016Q4I</td>\n",
       "      <td>AccountsPayableAndOtherAccruedLiabilitiesCurrent</td>\n",
       "      <td>NaT</td>\n",
       "    </tr>\n",
       "    <tr>\n",
       "      <th>2017-09-30</th>\n",
       "      <td>974000000.0</td>\n",
       "      <td>0001633917-17-000171</td>\n",
       "      <td>2017</td>\n",
       "      <td>Q3</td>\n",
       "      <td>10-Q</td>\n",
       "      <td>2017-10-24</td>\n",
       "      <td>CY2017Q3I</td>\n",
       "      <td>AccountsPayableAndOtherAccruedLiabilitiesCurrent</td>\n",
       "      <td>NaT</td>\n",
       "    </tr>\n",
       "    <tr>\n",
       "      <th>2014-12-31</th>\n",
       "      <td>115000000.0</td>\n",
       "      <td>0001633917-15-000008</td>\n",
       "      <td>2015</td>\n",
       "      <td>Q2</td>\n",
       "      <td>10-Q</td>\n",
       "      <td>2015-07-29</td>\n",
       "      <td>NaN</td>\n",
       "      <td>AccountsPayableCurrent</td>\n",
       "      <td>NaT</td>\n",
       "    </tr>\n",
       "    <tr>\n",
       "      <th>2015-06-30</th>\n",
       "      <td>188000000.0</td>\n",
       "      <td>0001633917-15-000008</td>\n",
       "      <td>2015</td>\n",
       "      <td>Q2</td>\n",
       "      <td>10-Q</td>\n",
       "      <td>2015-07-29</td>\n",
       "      <td>CY2015Q2I</td>\n",
       "      <td>AccountsPayableCurrent</td>\n",
       "      <td>NaT</td>\n",
       "    </tr>\n",
       "    <tr>\n",
       "      <th>2015-09-30</th>\n",
       "      <td>114000000.0</td>\n",
       "      <td>0001633917-15-000052</td>\n",
       "      <td>2015</td>\n",
       "      <td>Q3</td>\n",
       "      <td>10-Q</td>\n",
       "      <td>2015-10-29</td>\n",
       "      <td>CY2015Q3I</td>\n",
       "      <td>AccountsPayableCurrent</td>\n",
       "      <td>NaT</td>\n",
       "    </tr>\n",
       "  </tbody>\n",
       "</table>\n",
       "</div>"
      ],
      "text/plain": [
       "                    val                  accn    fy  fp  form       filed  \\\n",
       "end                                                                         \n",
       "2016-12-31  192000000.0  0001633917-17-000171  2017  Q3  10-Q  2017-10-24   \n",
       "2017-09-30  974000000.0  0001633917-17-000171  2017  Q3  10-Q  2017-10-24   \n",
       "2014-12-31  115000000.0  0001633917-15-000008  2015  Q2  10-Q  2015-07-29   \n",
       "2015-06-30  188000000.0  0001633917-15-000008  2015  Q2  10-Q  2015-07-29   \n",
       "2015-09-30  114000000.0  0001633917-15-000052  2015  Q3  10-Q  2015-10-29   \n",
       "\n",
       "                frame                                              fact start  \n",
       "end                                                                            \n",
       "2016-12-31  CY2016Q4I  AccountsPayableAndOtherAccruedLiabilitiesCurrent   NaT  \n",
       "2017-09-30  CY2017Q3I  AccountsPayableAndOtherAccruedLiabilitiesCurrent   NaT  \n",
       "2014-12-31        NaN                            AccountsPayableCurrent   NaT  \n",
       "2015-06-30  CY2015Q2I                            AccountsPayableCurrent   NaT  \n",
       "2015-09-30  CY2015Q3I                            AccountsPayableCurrent   NaT  "
      ]
     },
     "metadata": {},
     "output_type": "display_data"
    },
    {
     "name": "stdout",
     "output_type": "stream",
     "text": [
      "{'AccountsPayableAndOtherAccruedLiabilitiesCurrent': 'Accounts Payable and Other Accrued Liabilities, Current', 'AccountsPayableCurrent': 'Accounts Payable, Current', 'AccountsPayableRelatedPartiesCurrentAndNoncurrent': 'Accounts Payable, Related Parties', 'AccountsReceivableNetCurrent': 'Accounts Receivable, after Allowance for Credit Loss, Current', 'AccountsReceivableRelatedParties': 'Accounts Receivable, Related Parties', 'AccruedIncomeTaxes': 'Accrued Income Taxes', 'AccruedLiabilitiesCurrent': 'Accrued Liabilities, Current', 'AccumulatedDepreciationDepletionAndAmortizationPropertyPlantAndEquipment': 'Accumulated Depreciation, Depletion and Amortization, Property, Plant, and Equipment', 'AccumulatedOtherComprehensiveIncomeLossNetOfTax': 'Accumulated Other Comprehensive Income (Loss), Net of Tax', 'AdditionalPaidInCapital': 'Additional Paid in Capital', 'AdjustmentsToAdditionalPaidInCapitalSharebasedCompensationAndExerciseOfStockOptions': 'APIC, Share-based Payment Arrangement, Recognition and Exercise', 'AdjustmentsToAdditionalPaidInCapitalSharebasedCompensationRequisiteServicePeriodRecognitionValue': 'APIC, Share-based Payment Arrangement, Increase for Cost Recognition', 'AdjustmentsToAdditionalPaidInCapitalTaxEffectFromShareBasedCompensation': 'Adjustments to Additional Paid in Capital, Income Tax Benefit from Share-based Compensation', 'AdvertisingExpense': 'Advertising Expense', 'AllocatedShareBasedCompensationExpense': 'Share-based Payment Arrangement, Expense', 'AllowanceForNotesAndLoansReceivableCurrent': 'Financing Receivable, Allowance for Credit Loss, Current', 'AmortizationOfIntangibleAssets': 'Amortization of Intangible Assets', 'AntidilutiveSecuritiesExcludedFromComputationOfEarningsPerShareAmount': 'Antidilutive Securities Excluded from Computation of Earnings Per Share, Amount', 'AociTaxAttributableToParent': 'AOCI Tax, Attributable to Parent', 'AssetImpairmentCharges': 'Asset Impairment Charges', 'Assets': 'Assets', 'AssetsCurrent': 'Assets, Current', 'AvailableForSaleDebtSecuritiesAccumulatedGrossUnrealizedGainBeforeTax': 'Debt Securities, Available-for-sale, Accumulated Gross Unrealized Gain, before Tax', 'AvailableForSaleDebtSecuritiesAccumulatedGrossUnrealizedLossBeforeTax': 'Debt Securities, Available-for-sale, Accumulated Gross Unrealized Loss, before Tax', 'AvailableForSaleDebtSecuritiesAmortizedCostBasis': 'Debt Securities, Available-for-sale, Amortized Cost', 'AvailableForSaleSecurities': 'Available-for-sale Securities', 'AvailableForSaleSecuritiesAccumulatedGrossUnrealizedGainBeforeTax': 'Available-for-sale Securities, Accumulated Gross Unrealized Gain, before Tax', 'AvailableForSaleSecuritiesAccumulatedGrossUnrealizedLossBeforeTax': 'Available-for-sale Securities, Accumulated Gross Unrealized Loss, before Tax', 'AvailableForSaleSecuritiesAmortizedCost': 'Available-for-sale Securities, Amortized Cost Basis', 'AvailableForSaleSecuritiesContinuousUnrealizedLossPositionAccumulatedLoss': 'Available-for-sale Securities, Continuous Unrealized Loss Position, Accumulated Loss', 'AvailableForSaleSecuritiesContinuousUnrealizedLossPositionFairValue': 'Available-for-sale Securities, Continuous Unrealized Loss Position, Fair Value', 'AvailableForSaleSecuritiesContinuousUnrealizedLossPositionTwelveMonthsOrLongerFairValue': 'Available-for-sale Securities, Continuous Unrealized Loss Position, Twelve Months or Longer, Fair Value', 'AvailableForSaleSecuritiesDebtMaturitiesAfterFiveThroughTenYearsAmortizedCost': 'Debt Securities, Available-for-Sale, Amortized Cost, Maturity, Allocated and Single Maturity Date, after Year 5 Through 10', 'AvailableForSaleSecuritiesDebtMaturitiesAfterFiveThroughTenYearsFairValue': 'Debt Securities, Available-for-Sale, Fair Value, Maturity, Allocated and Single Maturity Date, after Year 5 Through 10', 'AvailableForSaleSecuritiesDebtMaturitiesAfterOneThroughFiveYearsAmortizedCost': 'Debt Securities, Available-for-Sale, Amortized Cost, Maturity, Allocated and Single Maturity Date, after Year One Through Five', 'AvailableForSaleSecuritiesDebtMaturitiesAfterOneThroughFiveYearsFairValue': 'Debt Securities, Available-for-Sale, Fair Value, Maturity, Allocated and Single Maturity Date, after Year One Through Five', 'AvailableForSaleSecuritiesDebtMaturitiesAfterTenYearsAmortizedCost': 'Debt Securities, Available-for-Sale, Amortized Cost, Maturity, Allocated and Single Maturity Date, after Year 10', 'AvailableForSaleSecuritiesDebtMaturitiesAfterTenYearsFairValue': 'Debt Securities, Available-for-Sale, Fair Value, Maturity, Allocated and Single Maturity Date, after Year 10', 'AvailableForSaleSecuritiesDebtMaturitiesSingleMaturityDate': 'Debt Securities, Available-for-sale, Maturity, Allocated and Single Maturity Date, Fair Value', 'AvailableForSaleSecuritiesDebtMaturitiesSingleMaturityDateAmortizedCostBasis': 'Debt Securities, Available-for-sale, Maturity, Allocated and Single Maturity Date, Amortized Cost', 'AvailableForSaleSecuritiesDebtMaturitiesWithinOneYearAmortizedCost': 'Debt Securities, Available-for-Sale, Amortized Cost, Maturity, Allocated and Single Maturity Date, Year One', 'AvailableForSaleSecuritiesDebtMaturitiesWithinOneYearFairValue': 'Debt Securities, Available-for-Sale, Fair Value, Maturity, Allocated and Single Maturity Date, Year One', 'AvailableForSaleSecuritiesDebtSecurities': 'Debt Securities, Available-for-sale', 'AvailableForSaleSecuritiesDebtSecuritiesCurrent': 'Debt Securities, Available-for-sale, Current', 'AvailableForSaleSecuritiesDebtSecuritiesNoncurrent': 'Debt Securities, Available-for-sale, Noncurrent', 'BusinessAcquisitionPercentageOfVotingInterestsAcquired': 'Business Acquisition, Percentage of Voting Interests Acquired', 'BusinessCombinationConsiderationTransferred1': 'Business Combination, Consideration Transferred', 'BusinessCombinationRecognizedIdentifiableAssetsAcquiredAndLiabilitiesAssumedNet': 'Business Combination, Recognized Identifiable Assets Acquired and Liabilities Assumed, Net', 'CapitalExpendituresIncurredButNotYetPaid': 'Capital Expenditures Incurred but Not yet Paid', 'CapitalizedComputerSoftwareAdditions': 'Capitalized Computer Software, Additions', 'CapitalizedComputerSoftwareAmortization': 'Capitalized Computer Software, Amortization (Deprecated 2016-01-31)', 'CapitalizedComputerSoftwareAmortization1': 'Capitalized Computer Software, Amortization', 'Cash': 'Cash', 'CashAndCashEquivalentsAtCarryingValue': 'Cash and Cash Equivalents, at Carrying Value', 'CashAndCashEquivalentsPeriodIncreaseDecrease': 'Cash and Cash Equivalents, Period Increase (Decrease)', 'CashCashEquivalentsRestrictedCashAndRestrictedCashEquivalents': 'Cash, Cash Equivalents, Restricted Cash and Restricted Cash Equivalents', 'CashCashEquivalentsRestrictedCashAndRestrictedCashEquivalentsPeriodIncreaseDecreaseIncludingExchangeRateEffect': 'Cash, Cash Equivalents, Restricted Cash and Restricted Cash Equivalents, Period Increase (Decrease), Including Exchange Rate Effect', 'CommonStockParOrStatedValuePerShare': 'Common Stock, Par or Stated Value Per Share', 'CommonStockSharesAuthorized': 'Common Stock, Shares Authorized', 'CommonStockSharesIssued': 'Common Stock, Shares, Issued', 'CommonStockSharesOutstanding': 'Common Stock, Shares, Outstanding', 'CommonStockValue': 'Common Stock, Value, Issued', 'ComprehensiveIncomeNetOfTax': 'Comprehensive Income (Loss), Net of Tax, Attributable to Parent', 'CostMethodInvestments': 'Cost Method Investments', 'CumulativeEffectOfNewAccountingPrincipleInPeriodOfAdoption': 'Cumulative Effect of New Accounting Principle in Period of Adoption (Deprecated 2020-01-31)', 'CurrentFederalTaxExpenseBenefit': 'Current Federal Tax Expense (Benefit)', 'CurrentForeignTaxExpenseBenefit': 'Current Foreign Tax Expense (Benefit)', 'CurrentIncomeTaxExpenseBenefit': 'Current Income Tax Expense (Benefit)', 'CurrentStateAndLocalTaxExpenseBenefit': 'Current State and Local Tax Expense (Benefit)', 'DebtCurrent': 'Debt, Current', 'DebtInstrumentCarryingAmount': 'Long-term Debt, Gross', 'DebtSecuritiesAvailableForSaleAccruedInterestAfterAllowanceForCreditLoss': 'Debt Securities, Available-for-Sale, Accrued Interest, after Allowance for Credit Loss', 'DebtSecuritiesAvailableForSaleAmortizedCostExcludingAccruedInterestAfterAllowanceForCreditLoss': None, 'DebtSecuritiesAvailableForSaleContinuousUnrealizedLossPosition12MonthsOrLonger': 'Debt Securities, Available-for-sale, Continuous Unrealized Loss Position, 12 Months or Longer', 'DebtSecuritiesAvailableForSaleContinuousUnrealizedLossPosition12MonthsOrLongerAccumulatedLoss': 'Debt Securities, Available-for-sale, Continuous Unrealized Loss Position, 12 Months or Longer, Accumulated Loss', 'DebtSecuritiesAvailableForSaleContinuousUnrealizedLossPositionLessThan12Months': 'Debt Securities, Available-for-sale, Continuous Unrealized Loss Position, Less than 12 Months', 'DebtSecuritiesAvailableForSaleContinuousUnrealizedLossPositionLessThan12MonthsAccumulatedLoss': 'Debt Securities, Available-for-sale, Continuous Unrealized Loss Position, Less than 12 Months, Accumulated Loss', 'DebtSecuritiesAvailableForSaleExcludingAccruedInterest': None, 'DebtSecuritiesAvailableForSaleUnrealizedLossPosition': 'Debt Securities, Available-for-sale, Unrealized Loss Position', 'DebtSecuritiesAvailableForSaleUnrealizedLossPositionAccumulatedLoss': 'Debt Securities, Available-for-sale, Unrealized Loss Position, Accumulated Loss', 'DeferredFederalIncomeTaxExpenseBenefit': 'Deferred Federal Income Tax Expense (Benefit)', 'DeferredForeignIncomeTaxExpenseBenefit': 'Deferred Foreign Income Tax Expense (Benefit)', 'DeferredIncomeTaxExpenseBenefit': 'Deferred Income Tax Expense (Benefit)', 'DeferredIncomeTaxLiabilities': 'Deferred Tax Liabilities, Gross', 'DeferredStateAndLocalIncomeTaxExpenseBenefit': 'Deferred State and Local Income Tax Expense (Benefit)', 'DeferredTaxAndOtherLiabilitiesNoncurrent': 'Deferred Tax and Other Liabilities, Noncurrent', 'DeferredTaxAssetsGross': 'Deferred Tax Assets, Gross', 'DeferredTaxAssetsInvestments': 'Deferred Tax Assets, Investments', 'DeferredTaxAssetsLiabilitiesNet': 'Deferred Tax Assets, Net', 'DeferredTaxAssetsNet': 'Deferred Tax Assets, Net of Valuation Allowance', 'DeferredTaxAssetsTaxDeferredExpenseCompensationAndBenefitsShareBasedCompensationCost': 'Deferred Tax Assets, Tax Deferred Expense, Compensation and Benefits, Share-based Compensation Cost', 'DeferredTaxAssetsTaxDeferredExpenseReservesAndAccruals': 'Deferred Tax Assets, Tax Deferred Expense, Reserves and Accruals', 'DeferredTaxAssetsUnrealizedCurrencyLosses': 'Deferred Tax Assets, Unrealized Currency Losses', 'DeferredTaxAssetsValuationAllowance': 'Deferred Tax Assets, Valuation Allowance', 'DeferredTaxLiabilities': 'Deferred Tax Liabilities, Net', 'DeferredTaxLiabilitiesGoodwillAndIntangibleAssetsIntangibleAssets': 'Deferred Tax Liabilities, Intangible Assets', 'DeferredTaxLiabilitiesUndistributedForeignEarnings': 'Deferred Tax Liabilities, Undistributed Foreign Earnings', 'DeferredTaxLiabilitiesUnrealizedCurrencyTransactionGains': 'Deferred Tax Liabilities, Unrealized Currency Transaction Gains', 'Depreciation': 'Depreciation', 'DepreciationAndAmortization': 'Depreciation, Depletion and Amortization, Nonproduction', 'DepreciationDepletionAndAmortization': 'Depreciation, Depletion and Amortization', 'DerivativeAssetCollateralObligationToReturnCashOffset': 'Derivative Asset, Collateral, Obligation to Return Cash, Offset', 'DerivativeAssetFairValueGrossLiability': 'Derivative Asset, Fair Value, Gross Liability', 'DerivativeAssets': 'Derivative Asset', 'DerivativeCollateralObligationToReturnCash': 'Derivative, Collateral, Obligation to Return Cash', 'DerivativeCollateralRightToReclaimCash': 'Derivative, Collateral, Right to Reclaim Cash', 'DerivativeFairValueOfDerivativeAsset': 'Derivative Asset, Fair Value, Gross Asset', 'DerivativeFairValueOfDerivativeLiability': 'Derivative Liability, Fair Value, Gross Liability', 'DerivativeFairValueOfDerivativeNet': 'Derivative, Fair Value, Net', 'DerivativeGainLossOnDerivativeNet': 'Derivative, Gain (Loss) on Derivative, Net', 'DerivativeLiabilities': 'Derivative Liability', 'DerivativeLiabilityCollateralRightToReclaimCashOffset': 'Derivative Liability, Collateral, Right to Reclaim Cash, Offset', 'DerivativeLiabilityFairValueGrossAsset': 'Derivative Liability, Fair Value, Gross Asset', 'DerivativeNotionalAmount': 'Derivative, Notional Amount', 'DueFromRelatedParties': 'Due from Related Parties', 'DueFromRelatedPartiesCurrent': 'Due from Related Parties, Current', 'DueToRelatedPartiesCurrent': 'Due to Related Parties, Current', 'DueToRelatedPartiesCurrentAndNoncurrent': 'Due to Related Parties', 'EarningsPerShareBasic': 'Earnings Per Share, Basic', 'EarningsPerShareDiluted': 'Earnings Per Share, Diluted', 'EffectiveIncomeTaxRateContinuingOperations': 'Effective Income Tax Rate Reconciliation, Percent', 'EffectiveIncomeTaxRateReconciliationAtFederalStatutoryIncomeTaxRate': 'Effective Income Tax Rate Reconciliation, at Federal Statutory Income Tax Rate, Percent', 'EffectiveIncomeTaxRateReconciliationChangeInDeferredTaxAssetsValuationAllowance': 'Effective Income Tax Rate Reconciliation, Change in Deferred Tax Assets Valuation Allowance, Percent', 'EffectiveIncomeTaxRateReconciliationChangeInEnactedTaxRate': 'Effective Income Tax Rate Reconciliation, Change in Enacted Tax Rate, Percent', 'EffectiveIncomeTaxRateReconciliationForeignIncomeTaxRateDifferential': 'Effective Income Tax Rate Reconciliation, Foreign Income Tax Rate Differential, Percent', 'EffectiveIncomeTaxRateReconciliationNondeductibleExpenseShareBasedCompensationCost': 'Effective Income Tax Rate Reconciliation, Nondeductible Expense, Share-based Payment Arrangement, Percent', 'EffectiveIncomeTaxRateReconciliationOtherAdjustments': 'Effective Income Tax Rate Reconciliation, Other Adjustments, Percent', 'EffectiveIncomeTaxRateReconciliationRepatriationOfForeignEarnings': 'Effective Income Tax Rate Reconciliation, Repatriation of Foreign Earnings, Percent', 'EffectiveIncomeTaxRateReconciliationStateAndLocalIncomeTaxes': 'Effective Income Tax Rate Reconciliation, State and Local Income Taxes, Percent', 'EffectiveIncomeTaxRateReconciliationTaxCredits': 'Effective Income Tax Rate Reconciliation, Tax Credit, Percent', 'EffectOfExchangeRateOnCashAndCashEquivalents': 'Effect of Exchange Rate on Cash and Cash Equivalents', 'EffectOfExchangeRateOnCashCashEquivalentsRestrictedCashAndRestrictedCashEquivalents': 'Effect of Exchange Rate on Cash, Cash Equivalents, Restricted Cash and Restricted Cash Equivalents', 'EmployeeServiceShareBasedCompensationAllocationOfRecognizedPeriodCostsCapitalizedAmount': 'Share-based Payment Arrangement, Amount Capitalized', 'EmployeeServiceShareBasedCompensationNonvestedAwardsTotalCompensationCostNotYetRecognized': 'Share-based Payment Arrangement, Nonvested Award, Cost Not yet Recognized, Amount', 'EmployeeServiceShareBasedCompensationTaxBenefitFromCompensationExpense': 'Share-based Payment Arrangement, Expense, Tax Benefit', 'EquityMethodInvestments': 'Equity Method Investments', 'EquitySecuritiesFVNINoncurrent': None, 'EquitySecuritiesFvNi': 'Equity Securities, FV-NI', 'EquitySecuritiesFvNiAndWithoutReadilyDeterminableFairValue': 'Equity Securities, FV-NI and without Readily Determinable Fair Value', 'EquitySecuritiesFvNiUnrealizedGainLoss': 'Equity Securities, FV-NI, Unrealized Gain (Loss)', 'EquitySecuritiesWithoutReadilyDeterminableFairValueAmount': 'Equity Securities without Readily Determinable Fair Value, Amount', 'EquitySecuritiesWithoutReadilyDeterminableFairValueImpairmentLossAnnualAmount': 'Equity Securities without Readily Determinable Fair Value, Impairment Loss, Annual Amount', 'EquitySecuritiesWithoutReadilyDeterminableFairValueImpairmentLossCumulativeAmount': 'Equity Securities without Readily Determinable Fair Value, Impairment Loss, Cumulative Amount', 'EquitySecuritiesWithoutReadilyDeterminableFairValueUpwardPriceAdjustmentAnnualAmount': 'Equity Securities without Readily Determinable Fair Value, Upward Price Adjustment, Annual Amount', 'EquitySecuritiesWithoutReadilyDeterminableFairValueUpwardPriceAdjustmentCumulativeAmount': 'Equity Securities without Readily Determinable Fair Value, Upward Price Adjustment, Cumulative Amount', 'ExcessTaxBenefitFromShareBasedCompensationFinancingActivities': 'Excess Tax Benefit from Share-based Compensation, Financing Activities', 'ExcessTaxBenefitFromShareBasedCompensationOperatingActivities': 'Excess Tax Benefit from Share-based Compensation, Operating Activities', 'FinancingReceivableAllowanceForCreditLosses': 'Financing Receivable, Allowance for Credit Loss', 'FinancingReceivableAllowanceForCreditLossesRecovery': 'Financing Receivable, Allowance for Credit Loss, Recovery', 'FinancingReceivableAllowanceForCreditLossesWriteOffs': 'Financing Receivable, Allowance for Credit Loss, Writeoff', 'FinancingReceivableModificationsSubsequentDefaultNumberOfContracts1': 'Financing Receivable, Troubled Debt Restructuring, Subsequent Default, Number of Contracts', 'FinancingReceivableRecordedInvestmentCurrent': 'Financing Receivable, Not Past Due', 'FinancingReceivableRecordedInvestmentPastDue': 'Financing Receivable, Past Due', 'FiniteLivedIntangibleAssetsAccumulatedAmortization': 'Finite-Lived Intangible Assets, Accumulated Amortization', 'FiniteLivedIntangibleAssetsAmortizationExpenseAfterYearFive': 'Finite-Lived Intangible Asset, Expected Amortization, after Year Five', 'FiniteLivedIntangibleAssetsAmortizationExpenseNextTwelveMonths': 'Finite-Lived Intangible Asset, Expected Amortization, Year One', 'FiniteLivedIntangibleAssetsAmortizationExpenseRemainderOfFiscalYear': 'Finite-Lived Intangible Asset, Expected Amortization, Remainder of Fiscal Year', 'FiniteLivedIntangibleAssetsAmortizationExpenseYearFive': 'Finite-Lived Intangible Asset, Expected Amortization, Year Five', 'FiniteLivedIntangibleAssetsAmortizationExpenseYearFour': 'Finite-Lived Intangible Asset, Expected Amortization, Year Four', 'FiniteLivedIntangibleAssetsAmortizationExpenseYearThree': 'Finite-Lived Intangible Asset, Expected Amortization, Year Three', 'FiniteLivedIntangibleAssetsAmortizationExpenseYearTwo': 'Finite-Lived Intangible Asset, Expected Amortization, Year Two', 'FiniteLivedIntangibleAssetsGross': 'Finite-Lived Intangible Assets, Gross', 'FiniteLivedIntangibleAssetsNet': 'Finite-Lived Intangible Assets, Net', 'ForeignCurrencyCashFlowHedgeGainLossToBeReclassifiedDuringNext12Months': 'Foreign Currency Cash Flow Hedge Gain (Loss) to be Reclassified During Next 12 Months', 'GainLossOnInvestments': 'Gain (Loss) on Investments', 'GainLossOnSaleOfLoansAndLeases': 'Gain (Loss) on Sale of Loans and Leases', 'GainLossOnSalesOfLoansNet': 'Gain (Loss) on Sales of Loans, Net', 'GeneralAndAdministrativeExpense': 'General and Administrative Expense', 'Goodwill': 'Goodwill', 'GoodwillAcquiredDuringPeriod': 'Goodwill, Acquired During Period', 'GoodwillTranslationAdjustments': 'Goodwill, Translation Adjustments (Deprecated 2016-01-31)', 'GoodwillTranslationAndPurchaseAccountingAdjustments': 'Goodwill, Translation and Purchase Accounting Adjustments', 'IncomeLossAttributableToParent': 'Income (Loss) Attributable to Parent, before Tax', 'IncomeLossFromContinuingOperationsBeforeIncomeTaxesDomestic': 'Income (Loss) from Continuing Operations before Income Taxes, Domestic', 'IncomeLossFromContinuingOperationsBeforeIncomeTaxesExtraordinaryItemsNoncontrollingInterest': 'Income (Loss) from Continuing Operations before Income Taxes, Noncontrolling Interest', 'IncomeLossFromContinuingOperationsBeforeIncomeTaxesForeign': 'Income (Loss) from Continuing Operations before Income Taxes, Foreign', 'IncomeTaxExaminationPenaltiesAndInterestAccrued': 'Income Tax Examination, Penalties and Interest Accrued', 'IncomeTaxExaminationPenaltiesAndInterestExpense': 'Income Tax Examination, Penalties and Interest Expense', 'IncomeTaxExpenseBenefit': 'Income Tax Expense (Benefit)', 'IncomeTaxesPaid': 'Income Taxes Paid', 'IncomeTaxesPaidNet': 'Income Taxes Paid, Net', 'IncomeTaxHolidayAggregateDollarAmount': 'Income Tax Holiday, Aggregate Dollar Amount', 'IncomeTaxHolidayIncomeTaxBenefitsPerShare': 'Income Tax Holiday, Income Tax Benefits Per Share', 'IncreaseDecreaseInAccountsPayableTrade': 'Increase (Decrease) in Accounts Payable, Trade', 'IncreaseDecreaseInAccountsReceivable': 'Increase (Decrease) in Accounts Receivable', 'IncreaseDecreaseInAccruedIncomeTaxesPayable': 'Increase (Decrease) in Income Taxes Payable', 'IncreaseDecreaseInAccruedTaxesPayable': 'Increase (Decrease) in Accrued Taxes Payable', 'IncreaseDecreaseInDueFromAffiliatesCurrent': 'Increase (Decrease) in Due from Affiliates, Current', 'IncreaseDecreaseInLoansHeldForSale': 'Increase (Decrease) in Loans Held-for-sale', 'IncreaseDecreaseInNotesPayableRelatedPartiesCurrent': 'Increase (Decrease) in Notes Payable, Related Parties, Current', 'IncreaseDecreaseInOtherOperatingAssets': 'Increase (Decrease) in Other Operating Assets', 'IncreaseDecreaseInOtherOperatingCapitalNet': 'Increase (Decrease) in Other Operating Assets and Liabilities, Net', 'IncreaseDecreaseInOtherOperatingLiabilities': 'Increase (Decrease) in Other Operating Liabilities', 'IncreaseDecreaseInPayablesToCustomers': 'Increase (Decrease) in Payables to Customers', 'IncrementalCommonSharesAttributableToShareBasedPaymentArrangements': 'Incremental Common Shares Attributable to Dilutive Effect of Share-based Payment Arrangements', 'InterestExpense': 'Interest Expense', 'InterestPaid': 'Interest Paid, Including Capitalized Interest, Operating and Investing Activities', 'InterestPaidNet': 'Interest Paid, Excluding Capitalized Interest, Operating Activities', 'InvestmentIncomeNonoperating': 'Investment Income, Nonoperating', 'InvestmentsFairValueDisclosure': 'Investments, Fair Value Disclosure', 'LeaseAndRentalExpense': 'Operating Leases, Rent Expense', 'LeaseCost': 'Lease, Cost', 'LesseeOperatingLeaseLiabilityPaymentsDue': 'Lessee, Operating Lease, Liability, to be Paid', 'LesseeOperatingLeaseLiabilityPaymentsDueAfterYearFive': 'Lessee, Operating Lease, Liability, to be Paid, after Year Five', 'LesseeOperatingLeaseLiabilityPaymentsDueNextTwelveMonths': 'Lessee, Operating Lease, Liability, to be Paid, Year One', 'LesseeOperatingLeaseLiabilityPaymentsDueYearFive': 'Lessee, Operating Lease, Liability, to be Paid, Year Five', 'LesseeOperatingLeaseLiabilityPaymentsDueYearFour': 'Lessee, Operating Lease, Liability, to be Paid, Year Four', 'LesseeOperatingLeaseLiabilityPaymentsDueYearThree': 'Lessee, Operating Lease, Liability, to be Paid, Year Three', 'LesseeOperatingLeaseLiabilityPaymentsDueYearTwo': 'Lessee, Operating Lease, Liability, to be Paid, Year Two', 'LesseeOperatingLeaseLiabilityPaymentsRemainderOfFiscalYear': 'Lessee, Operating Lease, Liability, to be Paid, Remainder of Fiscal Year', 'LesseeOperatingLeaseLiabilityUndiscountedExcessAmount': 'Lessee, Operating Lease, Liability, Undiscounted Excess Amount', 'Liabilities': 'Liabilities', 'LiabilitiesAndStockholdersEquity': 'Liabilities and Equity', 'LiabilitiesCurrent': 'Liabilities, Current', 'LiabilitiesNoncurrent': 'Liabilities, Noncurrent', 'LiabilitiesOtherThanLongtermDebtNoncurrent': 'Liabilities, Other than Long-term Debt, Noncurrent', 'LoansAndLeasesReceivableConsumer': 'Loans and Leases Receivable, Gross, Consumer (Deprecated 2016-01-31)', 'LongTermDebtMaturitiesRepaymentsOfPrincipalAfterYearFive': 'Long-Term Debt, Maturity, after Year Five', 'LongTermDebtMaturitiesRepaymentsOfPrincipalInNextTwelveMonths': 'Long-Term Debt, Maturity, Year One', 'LongTermDebtMaturitiesRepaymentsOfPrincipalInYearFive': 'Long-Term Debt, Maturity, Year Five', 'LongTermDebtMaturitiesRepaymentsOfPrincipalInYearFour': 'Long-Term Debt, Maturity, Year Four', 'LongTermDebtMaturitiesRepaymentsOfPrincipalInYearThree': 'Long-Term Debt, Maturity, Year Three', 'LongTermDebtMaturitiesRepaymentsOfPrincipalInYearTwo': 'Long-Term Debt, Maturity, Year Two', 'LongTermDebtMaturitiesRepaymentsOfPrincipalRemainderOfFiscalYear': 'Long-Term Debt, Maturity, Remainder of Fiscal Year', 'LongTermDebtNoncurrent': 'Long-term Debt, Excluding Current Maturities', 'LongTermInvestments': 'Long-term Investments', 'MinorityInterest': \"Stockholders' Equity Attributable to Noncontrolling Interest\", 'MinorityInterestDecreaseFromRedemptions': 'Noncontrolling Interest, Decrease from Redemptions or Purchase of Interests', 'NetCashProvidedByUsedInFinancingActivities': 'Net Cash Provided by (Used in) Financing Activities', 'NetCashProvidedByUsedInInvestingActivities': 'Net Cash Provided by (Used in) Investing Activities', 'NetCashProvidedByUsedInOperatingActivities': 'Net Cash Provided by (Used in) Operating Activities', 'NetIncomeLoss': 'Net Income (Loss) Attributable to Parent', 'NetIncomeLossAvailableToCommonStockholdersBasic': 'Net Income (Loss) Available to Common Stockholders, Basic', 'NetIncomeLossAvailableToCommonStockholdersDiluted': 'Net Income (Loss) Available to Common Stockholders, Diluted', 'NoncurrentAssets': 'Long-Lived Assets', 'NonoperatingIncomeExpense': 'Nonoperating Income (Expense)', 'NotesAndLoansReceivableNetCurrent': 'Financing Receivable, after Allowance for Credit Loss, Current', 'NotesPayable': 'Notes Payable', 'NotesPayableCurrent': 'Notes Payable, Current', 'NotesPayableFairValueDisclosure': 'Notes Payable, Fair Value Disclosure', 'NumberOfBusinessesAcquired': 'Number of Businesses Acquired', 'NumberOfOperatingSegments': 'Number of Operating Segments', 'NumberOfReportableSegments': 'Number of Reportable Segments', 'OciBeforeReclassificationsNetOfTaxAttributableToParent': 'OCI, before Reclassifications, Net of Tax, Attributable to Parent', 'OperatingExpenses': 'Operating Expenses', 'OperatingIncomeLoss': 'Operating Income (Loss)', 'OperatingLeaseCost': 'Operating Lease, Cost', 'OperatingLeaseExpense': 'Operating Lease, Expense', 'OperatingLeaseImpairmentLoss': 'Operating Lease, Impairment Loss', 'OperatingLeaseLiability': 'Operating Lease, Liability', 'OperatingLeaseLiabilityCurrent': 'Operating Lease, Liability, Current', 'OperatingLeaseLiabilityNoncurrent': 'Operating Lease, Liability, Noncurrent', 'OperatingLeasePayments': 'Operating Lease, Payments', 'OperatingLeaseRightOfUseAsset': 'Operating Lease, Right-of-Use Asset', 'OperatingLeasesFutureMinimumPaymentsDue': 'Operating Leases, Future Minimum Payments Due', 'OperatingLeasesFutureMinimumPaymentsDueCurrent': 'Operating Leases, Future Minimum Payments Due, Next Twelve Months', 'OperatingLeasesFutureMinimumPaymentsDueInFiveYears': 'Operating Leases, Future Minimum Payments, Due in Five Years', 'OperatingLeasesFutureMinimumPaymentsDueInFourYears': 'Operating Leases, Future Minimum Payments, Due in Four Years', 'OperatingLeasesFutureMinimumPaymentsDueInThreeYears': 'Operating Leases, Future Minimum Payments, Due in Three Years', 'OperatingLeasesFutureMinimumPaymentsDueInTwoYears': 'Operating Leases, Future Minimum Payments, Due in Two Years', 'OperatingLeasesFutureMinimumPaymentsDueThereafter': 'Operating Leases, Future Minimum Payments, Due Thereafter', 'OperatingLeaseWeightedAverageDiscountRatePercent': 'Operating Lease, Weighted Average Discount Rate, Percent', 'OtherAssetsCurrent': 'Other Assets, Current', 'OtherAssetsNoncurrent': 'Other Assets, Noncurrent', 'OtherComprehensiveIncomeAvailableforsaleSecuritiesAdjustmentBeforeTaxPortionAttributableToParent': 'Other Comprehensive Income (Loss), Available-for-sale Securities Adjustment, before Tax, Portion Attributable to Parent', 'OtherComprehensiveIncomeAvailableforsaleSecuritiesTaxPortionAttributableToParent': 'Other Comprehensive Income (Loss), Available-for-sale Securities, Tax, Portion Attributable to Parent', 'OtherComprehensiveIncomeDerivativesQualifyingAsHedgesTaxPortionAttributableToParent': 'Other Comprehensive Income (Loss), Derivatives Qualifying as Hedges, Tax, Portion Attributable to Parent', 'OtherComprehensiveIncomeForeignCurrencyTransactionAndTranslationAdjustmentBeforeTaxPortionAttributableToParent': 'Other Comprehensive Income (Loss), Foreign Currency Transaction and Translation Adjustment, before Tax, Portion Attributable to Parent', 'OtherComprehensiveIncomeLossAvailableForSaleSecuritiesAdjustmentBeforeTax': 'OCI, Debt Securities, Available-for-Sale, Gain (Loss), after Adjustment, before Tax', 'OtherComprehensiveIncomeLossAvailableForSaleSecuritiesTax': 'OCI, Debt Securities, Available-for-Sale, Gain (Loss), after Adjustment, Tax', 'OtherComprehensiveIncomeLossBeforeReclassificationsTax': 'Other Comprehensive Income (Loss) before Reclassifications, Tax', 'OtherComprehensiveIncomeLossCashFlowHedgeGainLossAfterReclassificationBeforeTaxParent': 'Other Comprehensive Income (Loss), Cash Flow Hedge, Gain (Loss), after Reclassification, before Tax, Parent', 'OtherComprehensiveIncomeLossCashFlowHedgeGainLossAfterReclassificationTaxParent': 'Other Comprehensive Income (Loss), Cash Flow Hedge, Gain (Loss), after Reclassification, Tax, Parent', 'OtherComprehensiveIncomeLossDerivativesQualifyingAsHedgesBeforeTax': 'Other Comprehensive Income (Loss), Derivatives Qualifying as Hedges, before Tax', 'OtherComprehensiveIncomeLossDerivativesQualifyingAsHedgesTax': 'Other Comprehensive Income (Loss), Derivatives Qualifying as Hedges, Tax', 'OtherComprehensiveIncomeLossForeignCurrencyTransactionAndTranslationAdjustmentBeforeTax': 'Other Comprehensive Income (Loss), Foreign Currency Transaction and Translation Adjustment, before Tax', 'OtherComprehensiveIncomeLossNetInvestmentHedgeGainLossBeforeReclassificationAndTax': 'Other Comprehensive Income (Loss), Net Investment Hedge, Gain (Loss), before Reclassification and Tax', 'OtherComprehensiveIncomeLossNetInvestmentHedgeGainLossReclassificationBeforeTax': 'Other Comprehensive Income (Loss), Net Investment Hedge, Gain (Loss), Reclassification, before Tax', 'OtherComprehensiveIncomeLossNetOfTaxPortionAttributableToParent': 'Other Comprehensive Income (Loss), Net of Tax, Portion Attributable to Parent', 'OtherComprehensiveIncomeLossReclassificationAdjustmentFromAOCIOnDerivativesBeforeTax': 'Other Comprehensive Income (Loss), Reclassification Adjustment from AOCI on Derivatives, before Tax', 'OtherComprehensiveIncomeLossTax': 'Other Comprehensive Income (Loss), Tax', 'OtherComprehensiveIncomeUnrealizedGainLossOnDerivativesArisingDuringPeriodBeforeTax': 'Other Comprehensive Income (Loss), Unrealized Gain (Loss) on Derivatives Arising During Period, before Tax', 'OtherCostAndExpenseOperating': 'Other Cost and Expense, Operating', 'OtherLiabilitiesCurrent': 'Other Liabilities, Current', 'OtherNoncashExpense': 'Other Noncash Expense', 'OtherNoncashIncome': 'Other Noncash Income', 'OtherNoncashIncomeExpense': 'Other Noncash Income (Expense)', 'OtherNonoperatingIncomeExpense': 'Other Nonoperating Income (Expense)', 'PaymentsForProceedsFromLoansReceivable': 'Payments for (Proceeds from) Loans Receivable', 'PaymentsForRepurchaseOfCommonStock': 'Payments for Repurchase of Common Stock', 'PaymentsForRestructuring': 'Payments for Restructuring', 'PaymentsRelatedToTaxWithholdingForShareBasedCompensation': 'Payment, Tax Withholding, Share-based Payment Arrangement', 'PaymentsToAcquireBusinessesGross': 'Payments to Acquire Businesses, Gross', 'PaymentsToAcquireBusinessesNetOfCashAcquired': 'Payments to Acquire Businesses, Net of Cash Acquired', 'PaymentsToAcquireInvestments': 'Payments to Acquire Investments', 'PaymentsToAcquirePropertyPlantAndEquipment': 'Payments to Acquire Property, Plant, and Equipment', 'PaymentsToFundLongtermLoansToRelatedParties': 'Payments to Fund Long-term Loans to Related Parties', 'PreferredStockParOrStatedValuePerShare': 'Preferred Stock, Par or Stated Value Per Share', 'PreferredStockSharesAuthorized': 'Preferred Stock, Shares Authorized', 'PreferredStockValue': 'Preferred Stock, Value, Issued', 'PreferredStockValueOutstanding': 'Preferred Stock, Value, Outstanding', 'PrepaidExpenseAndOtherAssetsCurrent': 'Prepaid Expense and Other Assets, Current', 'PriorPeriodReclassificationAdjustment': 'Prior Period Reclassification Adjustment', 'ProceedsFromContributionsFromParent': 'Proceeds from Contributions from Parent', 'ProceedsFromIncomeTaxRefunds': 'Proceeds from Income Tax Refunds', 'ProceedsFromIssuanceOfCommonStock': 'Proceeds from Issuance of Common Stock', 'ProceedsFromIssuanceOfDebt': 'Proceeds from Issuance of Debt', 'ProceedsFromPaymentsForLongTermLoansForRelatedParties': 'Proceeds from Collection of (Payments to Fund) Long-term Loans to Related Parties', 'ProceedsFromPaymentsForOtherFinancingActivities': 'Proceeds from (Payments for) Other Financing Activities', 'ProceedsFromRepaymentsOfDebt': 'Proceeds from (Repayments of) Debt', 'ProceedsFromSaleAndMaturityOfMarketableSecurities': 'Proceeds from Sale and Maturity of Marketable Securities', 'ProceedsFromSaleOfPropertyPlantAndEquipment': 'Proceeds from Sale of Property, Plant, and Equipment', 'PropertyPlantAndEquipmentGross': 'Property, Plant and Equipment, Gross', 'PropertyPlantAndEquipmentNet': 'Property, Plant and Equipment, Net', 'ProvisionForLoanLeaseAndOtherLosses': 'Provision for Loan, Lease, and Other Losses', 'ReceivablesFairValueDisclosure': 'Receivables, Fair Value Disclosure', 'ReceivablesHeldForSaleAmount': 'Accounts and Financing Receivables, Held-for-Sale', 'ReclassificationFromAociCurrentPeriodNetOfTaxAttributableToParent': 'Reclassification from AOCI, Current Period, Net of Tax, Attributable to Parent', 'ReclassificationFromAociCurrentPeriodTax': 'Reclassification from AOCI, Current Period, Tax', 'RepaymentsOfDebt': 'Repayments of Debt', 'ResearchAndDevelopmentExpense': 'Research and Development Expense', 'RestrictedCashAndCashEquivalentsAtCarryingValue': 'Restricted Cash and Cash Equivalents, Current', 'RestrictedCashAndCashEquivalentsNoncurrent': 'Restricted Cash and Cash Equivalents, Noncurrent', 'RestrictedCashCurrent': 'Restricted Cash, Current', 'RestrictedCashNoncurrent': 'Restricted Cash, Noncurrent', 'RestructuringCharges': 'Restructuring Charges', 'RestructuringCostsAndAssetImpairmentCharges': 'Restructuring Costs and Asset Impairment Charges', 'RestructuringReserve': 'Restructuring Reserve', 'RetainedEarningsAccumulatedDeficit': 'Retained Earnings (Accumulated Deficit)', 'RevenueFromContractWithCustomerExcludingAssessedTax': 'Revenue from Contract with Customer, Excluding Assessed Tax', 'Revenues': 'Revenues', 'RightOfUseAssetObtainedInExchangeForOperatingLeaseLiability': 'Right-of-Use Asset Obtained in Exchange for Operating Lease Liability', 'SalesRevenueNet': 'Revenue, Net (Deprecated 2018-01-31)', 'SecuritiesBorrowedCollateralObligationToReturnSecurities': 'Securities Borrowed, Collateral, Obligation to Return Securities', 'SellingAndMarketingExpense': 'Selling and Marketing Expense', 'ShareBasedCompensation': 'Share-based Payment Arrangement, Noncash Expense', 'ShareBasedCompensationArrangementByShareBasedPaymentAwardFairValueAssumptionsExpectedDividendRate': 'Share-based Compensation Arrangement by Share-based Payment Award, Fair Value Assumptions, Expected Dividend Rate', 'ShareBasedCompensationArrangementByShareBasedPaymentAwardFairValueAssumptionsExpectedVolatilityRate': 'Share-based Compensation Arrangement by Share-based Payment Award, Fair Value Assumptions, Expected Volatility Rate', 'ShareBasedCompensationArrangementByShareBasedPaymentAwardFairValueAssumptionsRiskFreeInterestRate': 'Share-based Compensation Arrangement by Share-based Payment Award, Fair Value Assumptions, Risk Free Interest Rate', 'ShortTermInvestments': 'Short-term Investments', 'StockholdersEquity': \"Stockholders' Equity Attributable to Parent\", 'StockholdersEquityIncludingPortionAttributableToNoncontrollingInterest': \"Stockholders' Equity, Including Portion Attributable to Noncontrolling Interest\", 'StockRepurchaseProgramAuthorizedAmount1': 'Stock Repurchase Program, Authorized Amount', 'StockRepurchaseProgramRemainingAuthorizedRepurchaseAmount1': 'Stock Repurchase Program, Remaining Authorized Repurchase Amount', 'SubleaseIncome': 'Sublease Income', 'TaxesPayableCurrent': 'Taxes Payable, Current', 'TimeDepositsAtCarryingValue': 'Time Deposits, at Carrying Value', 'TreasuryStockAcquiredAverageCostPerShare': 'Treasury Stock Acquired, Average Cost Per Share', 'TreasuryStockShares': 'Treasury Stock, Shares', 'TreasuryStockSharesAcquired': 'Treasury Stock, Shares, Acquired', 'TreasuryStockSharesRetired': 'Treasury Stock, Shares, Retired', 'TreasuryStockValue': 'Treasury Stock, Value', 'TreasuryStockValueAcquiredCostMethod': 'Treasury Stock, Value, Acquired, Cost Method', 'UndistributedEarningsOfForeignSubsidiaries': 'Undistributed Earnings of Foreign Subsidiaries', 'UnrealizedGainLossOnInvestments': 'Unrealized Gain (Loss) on Investments', 'UnrecognizedTaxBenefits': 'Unrecognized Tax Benefits', 'UnrecognizedTaxBenefitsDecreasesResultingFromPriorPeriodTaxPositions': 'Unrecognized Tax Benefits, Decrease Resulting from Prior Period Tax Positions', 'UnrecognizedTaxBenefitsDecreasesResultingFromSettlementsWithTaxingAuthorities': 'Unrecognized Tax Benefits, Decrease Resulting from Settlements with Taxing Authorities', 'UnrecognizedTaxBenefitsIncreasesResultingFromCurrentPeriodTaxPositions': 'Unrecognized Tax Benefits, Increase Resulting from Current Period Tax Positions', 'UnrecognizedTaxBenefitsIncreasesResultingFromPriorPeriodTaxPositions': 'Unrecognized Tax Benefits, Increase Resulting from Prior Period Tax Positions', 'UnrecognizedTaxBenefitsReductionsResultingFromLapseOfApplicableStatuteOfLimitations': 'Unrecognized Tax Benefits, Reduction Resulting from Lapse of Applicable Statute of Limitations', 'UnrecognizedTaxBenefitsThatWouldImpactEffectiveTaxRate': 'Unrecognized Tax Benefits that Would Impact Effective Tax Rate', 'UnusedCommitmentsToExtendCredit': 'Unused Commitments to Extend Credit', 'ValuationAllowanceDeferredTaxAssetChangeInAmount': 'Valuation Allowance, Deferred Tax Asset, Increase (Decrease), Amount', 'VariableInterestEntityPrimaryBeneficiaryMaximumLossExposureAmount': 'Variable Interest Entity, Primary Beneficiary, Maximum Loss Exposure, Amount', 'WeightedAverageNumberOfDilutedSharesOutstanding': 'Weighted Average Number of Shares Outstanding, Diluted', 'WeightedAverageNumberOfSharesOutstandingBasic': 'Weighted Average Number of Shares Outstanding, Basic', 'VariableInterestEntityEntityMaximumLossExposureAmount': 'Variable Interest Entity, Reporting Entity Involvement, Maximum Loss Exposure, Amount', 'PaymentsToAcquireLoansReceivable': 'Payments to Acquire Loans Receivable', 'PaymentsToAcquireOtherInvestments': 'Payments to Acquire Other Investments', 'ProceedsFromCollectionOfLoansReceivable': 'Proceeds from Collection of Loans Receivable', 'StockholdersEquityOther': \"Stockholders' Equity, Other\", 'UnrealizedGainLossOnForeignCurrencyDerivativesNetBeforeTax': 'Unrealized Gain (Loss) on Foreign Currency Derivatives, Net, before Tax', 'PaymentsForProceedsFromOtherInvestingActivities': 'Payments for (Proceeds from) Other Investing Activities', 'TreasuryStockCommonShares': 'Treasury Stock, Common, Shares', 'TreasuryStockCommonValue': 'Treasury Stock, Common, Value', 'DebtSecuritiesAvailableForSaleExcludingAccruedInterestCurrent': None, 'DebtSecuritiesAvailableForSaleExcludingAccruedInterestNoncurrent': None, 'DeferredTaxAssetsGoodwillAndIntangibleAssets': 'Deferred Tax Assets, Goodwill and Intangible Assets', 'DeferredTaxLiabilitiesInvestments': 'Deferred Tax Liabilities, Investments', 'PaymentsForProceedsFromDerivativeInstrumentFinancingActivities': 'Payments for (Proceeds from) Derivative Instrument, Financing Activities', 'PaymentsForProceedsFromDerivativeInstrumentInvestingActivities': 'Payments for (Proceeds from) Derivative Instrument, Investing Activities', 'ShareBasedCompensationArrangementByShareBasedPaymentAwardOptionsExercisableNumber': 'Share-based Compensation Arrangement by Share-based Payment Award, Options, Exercisable, Number', 'ShareBasedCompensationArrangementByShareBasedPaymentAwardOptionsExercisableWeightedAverageExercisePrice': 'Share-based Compensation Arrangement by Share-based Payment Award, Options, Exercisable, Weighted Average Exercise Price', 'ShareBasedCompensationArrangementByShareBasedPaymentAwardOptionsExercisesInPeriodTotalIntrinsicValue': 'Share-based Compensation Arrangement by Share-based Payment Award, Options, Exercises in Period, Intrinsic Value', 'ShareBasedCompensationArrangementByShareBasedPaymentAwardOptionsForfeituresAndExpirationsInPeriod': 'Share-based Compensation Arrangement by Share-based Payment Award, Options, Forfeitures and Expirations in Period', 'ShareBasedCompensationArrangementByShareBasedPaymentAwardOptionsForfeituresAndExpirationsInPeriodWeightedAverageExercisePrice': 'Share-based Compensation Arrangement by Share-based Payment Award, Options, Forfeitures and Expirations in Period, Weighted Average Exercise Price', 'ShareBasedCompensationArrangementByShareBasedPaymentAwardOptionsGrantsInPeriodGross': 'Share-based Compensation Arrangement by Share-based Payment Award, Options, Grants in Period, Gross', 'ShareBasedCompensationArrangementByShareBasedPaymentAwardOptionsGrantsInPeriodWeightedAverageGrantDateFairValue': 'Share-based Compensation Arrangement by Share-based Payment Award, Options, Grants in Period, Weighted Average Grant Date Fair Value', 'ShareBasedCompensationArrangementByShareBasedPaymentAwardOptionsOutstandingIntrinsicValue': 'Share-based Compensation Arrangement by Share-based Payment Award, Options, Outstanding, Intrinsic Value', 'ShareBasedCompensationArrangementByShareBasedPaymentAwardOptionsOutstandingNumber': 'Share-based Compensation Arrangement by Share-based Payment Award, Options, Outstanding, Number', 'ShareBasedCompensationArrangementByShareBasedPaymentAwardOptionsOutstandingWeightedAverageExercisePrice': 'Share-based Compensation Arrangement by Share-based Payment Award, Options, Outstanding, Weighted Average Exercise Price', 'ShareBasedCompensationArrangementByShareBasedPaymentAwardOptionsVestedAndExpectedToVestOutstandingAggregateIntrinsicValue': 'Share-based Compensation Arrangement by Share-based Payment Award, Options, Vested and Expected to Vest, Outstanding, Aggregate Intrinsic Value', 'ShareBasedCompensationArrangementByShareBasedPaymentAwardOptionsVestedAndExpectedToVestOutstandingNumber': 'Share-based Compensation Arrangement by Share-based Payment Award, Options, Vested and Expected to Vest, Outstanding, Number', 'ShareBasedCompensationArrangementByShareBasedPaymentAwardOptionsVestedAndExpectedToVestOutstandingWeightedAverageExercisePrice': 'Share-based Compensation Arrangement by Share-based Payment Award, Options, Vested and Expected to Vest, Outstanding, Weighted Average Exercise Price', 'ShareBasedCompensationArrangementsByShareBasedPaymentAwardOptionsExercisesInPeriodWeightedAverageExercisePrice': 'Share-based Compensation Arrangements by Share-based Payment Award, Options, Exercises in Period, Weighted Average Exercise Price', 'ShareBasedCompensationArrangementsByShareBasedPaymentAwardOptionsGrantsInPeriodWeightedAverageExercisePrice': 'Share-based Compensation Arrangements by Share-based Payment Award, Options, Grants in Period, Weighted Average Exercise Price', 'SharebasedCompensationArrangementBySharebasedPaymentAwardOptionsExercisableIntrinsicValue1': 'Share-based Compensation Arrangement by Share-based Payment Award, Options, Exercisable, Intrinsic Value', 'StockIssuedDuringPeriodSharesStockOptionsExercised': 'Share-based Compensation Arrangement by Share-based Payment Award, Options, Exercises in Period', 'DebtSecuritiesAvailableForSaleRealizedLoss': 'Debt Securities, Available-for-sale, Realized Loss', 'ProceedsFromSaleAndMaturityOfAvailableForSaleSecurities': 'Proceeds from Sale and Maturity of Debt Securities, Available-for-sale', 'LoansReceivableHeldForSaleAmount': 'Financing Receivable, Held-for-Sale', 'ProceedsFromSaleOfAvailableForSaleSecuritiesDebt': 'Proceeds from Sale of Debt Securities, Available-for-sale', 'FinancingReceivableModificationsPostModificationRecordedInvestment2': 'Financing Receivable, Troubled Debt Restructuring, Postmodification', 'FinancingReceivableModificationToTotalFinancingReceivablesPercent': None, 'FinancingReceivableModifiedPast12Months': None}\n"
     ]
    }
   ],
   "source": [
    "facts, labels = facts_to_df(ticker, headers=headers)\n",
    "\n",
    "display(facts.head())\n",
    "print(labels)"
   ]
  },
  {
   "cell_type": "markdown",
   "metadata": {},
   "source": [
    "## Filter the company facts and labels"
   ]
  },
  {
   "cell_type": "code",
   "execution_count": 173,
   "metadata": {},
   "outputs": [],
   "source": [
    "def annual_facts(ticker, headers=headers):\n",
    "    accession_nums = get_filter_filing(\n",
    "        ticker, ten_k=True, accession_number_only=True, headers=headers\n",
    "    )\n",
    "    df, labels = facts_to_df(ticker, headers=headers)\n",
    "    ten_k = df[df[\"accn\"].isin(accession_nums)]\n",
    "    ten_k = ten_k[ten_k.index.isin(accession_nums.index)]\n",
    "    pivot = ten_k.pivot_table(values=\"val\", index=\"end\", columns=\"fact\")\n",
    "    pivot.rename(columns=labels, inplace=True)\n",
    "    return pivot.T\n",
    "\n",
    "pivot_annual = annual_facts(ticker, headers=headers)   "
   ]
  },
  {
   "cell_type": "code",
   "execution_count": 176,
   "metadata": {},
   "outputs": [],
   "source": [
    "def quarterly_facts(ticker, headers=headers):\n",
    "    accession_nums = get_filter_filing(\n",
    "        ticker, ten_k=False, accession_number_only=True, headers=headers\n",
    "    )\n",
    "    df, labels = facts_to_df(ticker, headers=headers)\n",
    "    ten_q = df[df[\"accn\"].isin(accession_nums)]\n",
    "    ten_q = ten_q[ten_q.index.isin(accession_nums.index)]\n",
    "    ten_q = ten_q[ten_q.index.isin(accession_nums.index)].reset_index(drop=False)\n",
    "    ten_q = ten_q.drop_duplicates(subset=['fact', 'end'], keep='last')\n",
    "    pivot = ten_q.pivot_table(values=\"val\", index=\"end\", columns=\"fact\")\n",
    "    pivot.rename(columns=labels, inplace=True)\n",
    "    return pivot.T\n",
    "\n",
    "pivot_quarterly = quarterly_facts(ticker, headers=headers)\n",
    "\n",
    "\n"
   ]
  },
  {
   "cell_type": "code",
   "execution_count": null,
   "metadata": {},
   "outputs": [],
   "source": []
  }
 ],
 "metadata": {
  "kernelspec": {
   "display_name": "Python 3",
   "language": "python",
   "name": "python3"
  },
  "language_info": {
   "codemirror_mode": {
    "name": "ipython",
    "version": 3
   },
   "file_extension": ".py",
   "mimetype": "text/x-python",
   "name": "python",
   "nbconvert_exporter": "python",
   "pygments_lexer": "ipython3",
   "version": "3.11.3"
  }
 },
 "nbformat": 4,
 "nbformat_minor": 2
}
